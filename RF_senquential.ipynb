{
  "nbformat": 4,
  "nbformat_minor": 0,
  "metadata": {
    "colab": {
      "name": "RF_senquential.ipynb",
      "provenance": [],
      "collapsed_sections": []
    },
    "kernelspec": {
      "name": "python3",
      "display_name": "Python 3"
    },
    "language_info": {
      "name": "python"
    }
  },
  "cells": [
    {
      "cell_type": "code",
      "metadata": {
        "id": "bhMPQMzUCfba"
      },
      "source": [
        "import random"
      ],
      "execution_count": 4,
      "outputs": []
    },
    {
      "cell_type": "code",
      "metadata": {
        "id": "vT2r7QVTDE5w"
      },
      "source": [
        "class DecisionTree():\n",
        "    tree = {}\n",
        "\n",
        "    def learn(self, training_set, attributes, label):\n",
        "        self.tree = create_tree(training_set, attributes, label)\n",
        "        \n",
        "class Node():\n",
        "    value = \"\"\n",
        "    children = []\n",
        "\n",
        "    def __init__(self, val, dictionary):\n",
        "        self.value = val\n",
        "        if (isinstance(dictionary, dict)):\n",
        "            self.children = dictionary.keys()"
      ],
      "execution_count": 5,
      "outputs": []
    },
    {
      "cell_type": "code",
      "metadata": {
        "id": "g-SuPp5pD9sN"
      },
      "source": [
        "# Tìm nhãn có nhiều entry nhất\n",
        "def majorLabel(data, attributes, label):\n",
        "\n",
        "    freq = {}\n",
        "    index = attributes.index(label)\n",
        "\n",
        "    for tuple in data:\n",
        "        if (freq.has_key(tuple[index])):\n",
        "            freq[tuple[index]] += 1 \n",
        "        else:\n",
        "            freq[tuple[index]] = 1\n",
        "\n",
        "    max = 0\n",
        "    major = \"\"\n",
        "\n",
        "    for key in freq.keys():\n",
        "        if freq[key]>max:\n",
        "            max = freq[key]\n",
        "            major = key\n",
        "\n",
        "    return major"
      ],
      "execution_count": 6,
      "outputs": []
    },
    {
      "cell_type": "code",
      "metadata": {
        "id": "iBj1_hibBpzG"
      },
      "source": [
        "def entropy(data, attributes, label):\n",
        "\n",
        "    freq = {}\n",
        "    dataEntropy = 0.0\n",
        "\n",
        "    i = 0\n",
        "    for j in attributes:\n",
        "        if (label == j):\n",
        "            break\n",
        "        i = i + 1\n",
        "\n",
        "    i = i - 1\n",
        "\n",
        "    for j in data:\n",
        "        if (freq.has_key(j[i])):\n",
        "            freq[j[i]] += 1.0\n",
        "        else:\n",
        "            freq[j[i]]  = 1.0\n",
        "\n",
        "    for freq in freq.values():\n",
        "        dataEntropy += (-freq/len(data)) * math.log(freq/len(data), 2) \n",
        "        \n",
        "    return dataEntropy"
      ],
      "execution_count": 1,
      "outputs": []
    },
    {
      "cell_type": "code",
      "metadata": {
        "id": "LU8A0X5aCY3W"
      },
      "source": [
        "def info_gain(data, attributes, attr, label):\n",
        "\n",
        "    freq = {}\n",
        "    subsetEntropy = 0.0\n",
        "    i = attributes.index(attr)\n",
        "\n",
        "    for entry in data:\n",
        "        if (freq.has_key(entry[i])):\n",
        "            freq[entry[i]] += 1.0\n",
        "        else:\n",
        "            freq[entry[i]]  = 1.0\n",
        "\n",
        "    for val in freq.keys():\n",
        "        valProb        = freq[val] / sum(freq.values())\n",
        "        dataSubset     = [entry for entry in data if entry[i] == val]\n",
        "        subsetEntropy += valProb * entropy(dataSubset, attributes, targetAttr)\n",
        "\n",
        "    return (entropy(attributes, data, label) - subsetEntropy)"
      ],
      "execution_count": null,
      "outputs": []
    },
    {
      "cell_type": "code",
      "metadata": {
        "id": "XMZUfC6ANE_j"
      },
      "source": [
        "# Chọn thuộc tính độ information gain tốt nhất\n",
        "def chosenAttribute(data, attributes, label):\n",
        "\n",
        "    best = attributes[0]\n",
        "    maxGain = 0;\n",
        "\n",
        "    for attr in attributes:\n",
        "        newGain = info_gain(data, attributes, attr, label) \n",
        "        if newGain>maxGain:\n",
        "            maxGain = newGain\n",
        "            best = attr\n",
        "\n",
        "    return best"
      ],
      "execution_count": null,
      "outputs": []
    },
    {
      "cell_type": "code",
      "metadata": {
        "id": "IPwSrHHgNgu6"
      },
      "source": [
        "def get_values(data, attributes, attr):\n",
        "\n",
        "    index = attributes.index(attr)\n",
        "    values = []\n",
        "\n",
        "    for entry in data:\n",
        "        if entry[index] not in values:\n",
        "            values.append(entry[index])\n",
        "\n",
        "    return values"
      ],
      "execution_count": null,
      "outputs": []
    },
    {
      "cell_type": "code",
      "metadata": {
        "id": "jfqW0FqvNiAk"
      },
      "source": [
        "def get_data(data, attributes, best, val):\n",
        "\n",
        "    new_data = [[]]\n",
        "    index = attributes.index(best)\n",
        "\n",
        "    for entry in data:\n",
        "        if (entry[index] == val):\n",
        "            newEntry = []\n",
        "            for i in range(0,len(entry)):\n",
        "                if(i != index):\n",
        "                    newEntry.append(entry[i])\n",
        "            new_data.append(newEntry)\n",
        "\n",
        "    new_data.remove([])    \n",
        "    return new_data"
      ],
      "execution_count": null,
      "outputs": []
    },
    {
      "cell_type": "code",
      "metadata": {
        "id": "stJrIXf7Nky4"
      },
      "source": [
        "def create_tree(data, attributes, label):\n",
        "\n",
        "    data = data[:]\n",
        "    vals = [record[attributes.index(label)] for record in data]\n",
        "    default = majorLabel(data, attribute, label)\n",
        "\n",
        "    if not data or (len(attributes) - 1) <= 0:\n",
        "        return default\n",
        "    elif vals.count(vals[0]) == len(vals):\n",
        "        return vals[0]\n",
        "    else:\n",
        "        best = chosenAttribute(data, attributes, label)\n",
        "        tree = {best:{}}\n",
        "    \n",
        "        for val in get_values(data, attributes, best):\n",
        "            new_data = get_data(data, attributes, best, val)\n",
        "            newAttr = attributes[:]\n",
        "            newAttr.remove(best)\n",
        "            subtree = create_tree(new_data, newAttr, label)\n",
        "            tree[best][val] = subtree\n",
        "    \n",
        "    return tree"
      ],
      "execution_count": null,
      "outputs": []
    },
    {
      "cell_type": "code",
      "metadata": {
        "id": "6-K_YIJWVndP"
      },
      "source": [
        "def bootstrap():"
      ],
      "execution_count": 10,
      "outputs": []
    },
    {
      "cell_type": "code",
      "metadata": {
        "id": "u8A7TSZiVyi-"
      },
      "source": [
        "def randomforest():"
      ],
      "execution_count": null,
      "outputs": []
    },
    {
      "cell_type": "code",
      "metadata": {
        "id": "aCEMXkDqWAww"
      },
      "source": [
        "def predict():"
      ],
      "execution_count": null,
      "outputs": []
    }
  ]
}