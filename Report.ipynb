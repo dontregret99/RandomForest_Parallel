{
  "nbformat": 4,
  "nbformat_minor": 0,
  "metadata": {
    "colab": {
      "name": "Report.ipynb",
      "provenance": [],
      "collapsed_sections": []
    },
    "kernelspec": {
      "name": "python3",
      "display_name": "Python 3"
    },
    "language_info": {
      "name": "python"
    }
  },
  "cells": [
    {
      "cell_type": "markdown",
      "metadata": {
        "id": "p2MFg4TLikXd"
      },
      "source": [
        "# **Đồ án môn Lập trình song song ứng dụng** <br>\n",
        "## Đề tài: **Huấn luyện mô hình Random Forest** <br>\n",
        "Giáo viên: Trần Trung Kiên <br>\n",
        "Thực hiện: <br>\n",
        "*   Đặng Thái Gia Thuận\t- 1712173\t\n",
        "*   Lê Đức Hòa -\t1712449\n",
        "*   Ngô Hoàng Sinh -\t1412457"
      ]
    },
    {
      "cell_type": "markdown",
      "metadata": {
        "id": "BM7rl5DPHHCV"
      },
      "source": [
        "#### Mô tả ứng dụng"
      ]
    },
    {
      "cell_type": "markdown",
      "metadata": {
        "id": "9qhA8TjhG4Pj"
      },
      "source": [
        "**Huấn luyện mô hình Random Forest**.\n",
        "\n",
        "\n",
        "*  **Input**: tập dữ liệu Fashion MNIST\n",
        "*  **Output**: Mô hình Random Forest đã được huấn luyện để phân loại trang phục từ bộ dữ liệu Fashion MNIST\n",
        "*  **Ứng dụng có cần tăng tốc không?** Đối với các trường hợp số lượng cây (tree) nhiều thì Random Forest rất chậm, không phù hợp cho những dự đoán yêu cầu real-time.\n",
        "* **Ứng dụng có thể song song hóa không?** Có thể song song hóa ở :\n",
        "<ul> \n",
        "*   Quá trình training: có thể song song huấn luyện cho từng cây (tree) riêng biệt.\n",
        "*   Quá trình predict: có thể song song dự đoán với từng cây (rồi sau đó tổng hợp kết quả từ tất cả cây để đưa ra predict cuối cùng).</ul> \n"
      ]
    },
    {
      "cell_type": "markdown",
      "metadata": {
        "id": "Q5ad_R6ht7Lw"
      },
      "source": [
        "##### Decision Tree \n"
      ]
    },
    {
      "cell_type": "markdown",
      "metadata": {
        "id": "vgVy9Z3Jv_Aq"
      },
      "source": [
        "![picture](https://drive.google.com/uc?export=view&id=1ofnsuc4CycTHuOtIC9hO_UWdkABtSiz2)"
      ]
    },
    {
      "cell_type": "markdown",
      "metadata": {
        "id": "OFitfHyXy4ep"
      },
      "source": [
        "\n",
        "**Độ đo Entropy**\n",
        "* Độ hỗn loạn của dữ liệu\n",
        "* Càng nhỏ càng tốt\n",
        "\n",
        "![picture](https://drive.google.com/uc?export=view&id=1ayq1WeW26Ya3jEDbitbCOUrj-eNLxzon)"
      ]
    },
    {
      "cell_type": "markdown",
      "metadata": {
        "id": "6l6qWTpx6_yU"
      },
      "source": [
        "**Độ đo Information Gain**\n",
        "\n",
        "\n",
        "*   Độ giảm của của hàm Entropy khi chọn node để phân chia\n",
        "*   Tính bằng: Entropy (trước khi chia) - Tổng (Entropy của tất cả nhánh sau khi chia)\n",
        "\n",
        "\n"
      ]
    },
    {
      "cell_type": "markdown",
      "metadata": {
        "id": "f86FsDG7uM-A"
      },
      "source": [
        "##### Random Forest"
      ]
    },
    {
      "cell_type": "markdown",
      "metadata": {
        "id": "g9mQJ__xBYbr"
      },
      "source": [
        "![picture](https://drive.google.com/uc?export=view&id=1Mk6g7fiAk1tM0Sahzv5Ksm3kKxOIYki6)"
      ]
    },
    {
      "cell_type": "markdown",
      "metadata": {
        "id": "QEF8xA0auflH"
      },
      "source": [
        "Điểm mạnh của Random Forest so với Decision Tree là do tính ngẫu nhiên\n",
        "\n",
        "\n",
        "*   Ngẫu nhiên ở việc chọn điểm dữ liệu cho các decision tree\n",
        "*   Ngẫu nhiên ở việc chọn thuộc tính để xây dựng decision tree\n",
        "\n"
      ]
    },
    {
      "cell_type": "markdown",
      "metadata": {
        "id": "KEVrN5VWD2hq"
      },
      "source": [
        "*   **Training**\n",
        "1.   Chọn ngẫu nhiên các tập dữ liệu (từ tập dữ liệu train) cho mỗi decision tree\n",
        "2.   Xây dựng các decision tree độc lập từ các tập dữ liệu đã chọn\n",
        "\n",
        "\n",
        "\n",
        "*   **Testing**\n",
        "\n",
        "\n",
        "\n",
        "1.   Cho điểm dữ liệu cần dữ đoán vào từng decision tree để dự đoán\n",
        "2.   Tổng hợp kết quả dự đoán từ tất cả các decision tree và chọn class có số lượng dự đoán nhiều nhất\n",
        "\n",
        "\n",
        "\n",
        "\n"
      ]
    },
    {
      "cell_type": "markdown",
      "metadata": {
        "id": "-DY105obHmg4"
      },
      "source": [
        "##### Data"
      ]
    },
    {
      "cell_type": "markdown",
      "metadata": {
        "id": "5pzk7kyWHq6E"
      },
      "source": [
        "Bộ dữ liệu Fashion-MNIST \n",
        "https://github.com/zalandoresearch/fashion-mnist\n",
        "* ![picture](https://drive.google.com/uc?export=view&id=1XppnN4qTchext1dRP-ThTj0bOgNpkOed)\n"
      ]
    },
    {
      "cell_type": "markdown",
      "metadata": {
        "id": "fWSRTwxvHuQ5"
      },
      "source": [
        "* Kiểu dữ liệu tương tự như bộ dữ liệu MNIST 28x28 grayscale image\n",
        "* Tập train 60.000 images\n",
        "* Tập test 10.000 images\n",
        "* Label gồm 10 class\n",
        "* ![picture](https://drive.google.com/uc?export=view&id=18CO_axmmNBXryOxi6x6Kuls4_yXjgdgA)"
      ]
    },
    {
      "cell_type": "markdown",
      "metadata": {
        "id": "A3aozq4XXuqn"
      },
      "source": [
        "#### Cài đặt tuần tự "
      ]
    },
    {
      "cell_type": "markdown",
      "metadata": {
        "id": "Q1uVjEDRZ1ld"
      },
      "source": [
        "\n",
        "\n",
        "*   Giả sử cần huấn luyện T decision tree cho thuật toán Random forest từ tập dữ liệu ***{ (X1, y1), (X2, y2), ... (Xn, yn) } \\***\n",
        "với **Xi** là vector các feature, **yi** là label\n",
        "\n",
        "\n",
        "```\n",
        "# This is formatted as code\n",
        "   For t = 1 to T:\n",
        "      + Chọn ngẫu nhiên tập dữ liệu d gồm n phần tử từ dataset (chọn có lặp lại)\n",
        "      + Xây dựng cây t từ tập dữ liệu d \n",
        "          - Chọn ngẫu nhiên m = \\sqrt{feature}\n",
        "          - Tính Information Gain cho từng feature và chọn feature có Information Gain lớn nhât\n",
        "          - Chia node thành 2 node con\n",
        "          (Lặp lại đến khi các node lá chỉ chứa 1 class hoặc đến giới hạn)\n",
        "  Kết quả là một model Random forest gồm T cây\n",
        "\n",
        "```"
      ]
    },
    {
      "cell_type": "markdown",
      "metadata": {
        "id": "gX6dpr12H4Bp"
      },
      "source": [
        "#### Cài đặt song song"
      ]
    },
    {
      "cell_type": "markdown",
      "metadata": {
        "id": "xrNHxh_lISrm"
      },
      "source": [
        ""
      ]
    },
    {
      "cell_type": "markdown",
      "metadata": {
        "id": "-4iyDOczITq6"
      },
      "source": [
        "#### Nhìn lại quá trình làm đồ án"
      ]
    },
    {
      "cell_type": "markdown",
      "metadata": {
        "id": "lAvgcOCXId7u"
      },
      "source": [
        ""
      ]
    },
    {
      "cell_type": "markdown",
      "metadata": {
        "id": "DiTHQs2bIgtV"
      },
      "source": [
        "#### Tài liệu tham khảo"
      ]
    },
    {
      "cell_type": "code",
      "metadata": {
        "id": "tkBaeBG5IirV"
      },
      "source": [
        ""
      ],
      "execution_count": null,
      "outputs": []
    }
  ]
}
