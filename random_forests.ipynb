{
  "nbformat": 4,
  "nbformat_minor": 0,
  "metadata": {
    "colab": {
      "name": "random forests.ipynb",
      "provenance": [],
      "collapsed_sections": []
    },
    "kernelspec": {
      "display_name": "Python 3",
      "language": "python",
      "name": "python3"
    },
    "language_info": {
      "codemirror_mode": {
        "name": "ipython",
        "version": 3
      },
      "file_extension": ".py",
      "mimetype": "text/x-python",
      "name": "python",
      "nbconvert_exporter": "python",
      "pygments_lexer": "ipython3",
      "version": "3.6.1"
    }
  },
  "cells": [
    {
      "cell_type": "markdown",
      "metadata": {
        "id": "5pA9EkmMTtIE"
      },
      "source": [
        "## The Data"
      ]
    },
    {
      "cell_type": "code",
      "metadata": {
        "colab": {
          "base_uri": "https://localhost:8080/"
        },
        "id": "oCJJ_tNaTtIF",
        "scrolled": false,
        "outputId": "c00c7344-75bc-4cf1-dc21-3362f1b1613d"
      },
      "source": [
        "import random\n",
        "import pandas as pd\n",
        "import numpy as np\n",
        "from tensorflow.keras.datasets import fashion_mnist\n",
        "from collections import Counter\n",
        "\n",
        "(x_train, y_train), (x_test, y_test) = fashion_mnist.load_data()\n",
        "x_train = (x_train / 255.0).reshape(-1, 784)\n",
        "x_test = (x_test / 255.0).reshape(-1, 784)\n",
        "train_df = pd.DataFrame(x_train)\n",
        "train_df['label'] = y_train\n",
        "test_df = pd.DataFrame(x_test)\n",
        "test_df['label'] = y_test\n",
        "\n",
        "print(train_df.head())\n",
        "print(test_df.head())"
      ],
      "execution_count": 60,
      "outputs": [
        {
          "output_type": "stream",
          "text": [
            "     0    1    2    3    4         5    6  ...  778  779  780  781  782  783  label\n",
            "0  0.0  0.0  0.0  0.0  0.0  0.000000  0.0  ...  0.0  0.0  0.0  0.0  0.0  0.0      9\n",
            "1  0.0  0.0  0.0  0.0  0.0  0.003922  0.0  ...  0.0  0.0  0.0  0.0  0.0  0.0      0\n",
            "2  0.0  0.0  0.0  0.0  0.0  0.000000  0.0  ...  0.0  0.0  0.0  0.0  0.0  0.0      0\n",
            "3  0.0  0.0  0.0  0.0  0.0  0.000000  0.0  ...  0.0  0.0  0.0  0.0  0.0  0.0      3\n",
            "4  0.0  0.0  0.0  0.0  0.0  0.000000  0.0  ...  0.0  0.0  0.0  0.0  0.0  0.0      0\n",
            "\n",
            "[5 rows x 785 columns]\n",
            "     0    1    2         3    4  ...       780  781  782  783  label\n",
            "0  0.0  0.0  0.0  0.000000  0.0  ...  0.000000  0.0  0.0  0.0      9\n",
            "1  0.0  0.0  0.0  0.000000  0.0  ...  0.262745  0.0  0.0  0.0      2\n",
            "2  0.0  0.0  0.0  0.000000  0.0  ...  0.000000  0.0  0.0  0.0      1\n",
            "3  0.0  0.0  0.0  0.000000  0.0  ...  0.000000  0.0  0.0  0.0      1\n",
            "4  0.0  0.0  0.0  0.007843  0.0  ...  0.000000  0.0  0.0  0.0      6\n",
            "\n",
            "[5 rows x 785 columns]\n"
          ],
          "name": "stdout"
        }
      ]
    },
    {
      "cell_type": "code",
      "metadata": {
        "id": "DVQoJFg0WYiv"
      },
      "source": [
        "train_df_demo = train_df.sample(n=1000, random_state=1999)\n",
        "X_train = train_df_demo.drop(['label'], axis=1)\n",
        "y_train = train_df_demo['label'].values"
      ],
      "execution_count": 61,
      "outputs": []
    },
    {
      "cell_type": "code",
      "metadata": {
        "colab": {
          "base_uri": "https://localhost:8080/"
        },
        "id": "2bSymqDIBm8L",
        "outputId": "f144dc74-f095-475a-8b6c-8c7e2eb07aef"
      },
      "source": [
        "X_train.info()"
      ],
      "execution_count": 62,
      "outputs": [
        {
          "output_type": "stream",
          "text": [
            "<class 'pandas.core.frame.DataFrame'>\n",
            "Int64Index: 1000 entries, 52351 to 58736\n",
            "Columns: 784 entries, 0 to 783\n",
            "dtypes: float64(784)\n",
            "memory usage: 6.0 MB\n"
          ],
          "name": "stdout"
        }
      ]
    },
    {
      "cell_type": "code",
      "metadata": {
        "collapsed": true,
        "id": "wEgNNQ-XTtIP"
      },
      "source": [
        "def entropy(labels, count = None):\n",
        "  num_labels = len(labels)\n",
        "  \n",
        "  if num_labels <= 1:\n",
        "    return 0\n",
        "  values, counts = np.unique(labels, return_counts=True)\n",
        "  probs = counts / num_labels\n",
        "  n_classes = np.count_nonzero(probs)\n",
        "  if n_classes <=1:\n",
        "    return 0\n",
        "    \n",
        "  entropy = 0\n",
        "  for i in probs:\n",
        "    entropy += -i*np.log2(i)\n",
        "\n",
        "  return entropy\n",
        "\n",
        "    \n",
        "def information_gain(left_child, right_child, count = None):\n",
        "    parent = left_child + right_child\n",
        "    IG_p = entropy(parent, count)\n",
        "    IG_l = entropy(left_child, count)\n",
        "    IG_r = entropy(right_child, count)\n",
        "    return IG_p - len(left_child) / len(parent) * IG_l - len(right_child) / len(parent) * IG_r"
      ],
      "execution_count": 63,
      "outputs": []
    },
    {
      "cell_type": "code",
      "metadata": {
        "collapsed": true,
        "id": "UadrpgJXTtIQ"
      },
      "source": [
        "def draw_bootstrap(X_train, y_train):\n",
        "    bootstrap_indices = list(np.random.choice(range(len(X_train)), len(X_train), replace = True))\n",
        "    idx_dict = Counter(bootstrap_indices)\n",
        "    full_set = set(list(range(len(X_train))))\n",
        "    bootstrap_set = set(list(idx_dict.keys()))\n",
        "    oob_set = full_set - bootstrap_set\n",
        "    oob_indices = list(oob_set)\n",
        "    X_bootstrap = X_train.iloc[bootstrap_indices].values\n",
        "    y_bootstrap = y_train[bootstrap_indices]\n",
        "    X_oob = X_train.iloc[oob_indices].values\n",
        "    y_oob = y_train[oob_indices]\n",
        "    return X_bootstrap, y_bootstrap, X_oob, y_oob\n",
        "\n",
        "\n",
        "def oob_score(tree, X_test, y_test):\n",
        "    mis_label = 0\n",
        "    for i in range(len(X_test)):\n",
        "        pred = predict_tree(tree, X_test[i])\n",
        "        if pred != y_test[i]:\n",
        "            mis_label += 1\n",
        "    return mis_label / len(X_test)"
      ],
      "execution_count": 64,
      "outputs": []
    },
    {
      "cell_type": "code",
      "metadata": {
        "collapsed": true,
        "id": "ZCvidyQBTtIR"
      },
      "source": [
        "def find_split_point(X_bootstrap, y_bootstrap, max_features):\n",
        "    feature_ls = list()\n",
        "    num_features = len(X_bootstrap[0])\n",
        "\n",
        "    while len(feature_ls) <= max_features:\n",
        "      feature_idx = random.sample(range(num_features), 1)\n",
        "      if feature_idx not in feature_ls:\n",
        "          feature_ls.extend(feature_idx)\n",
        "\n",
        "    best_info_gain = -999\n",
        "    node = None\n",
        "\n",
        "    for feature_idx in feature_ls:\n",
        "      for split_point in X_bootstrap[:,feature_idx]:\n",
        "          left_child = {'X_bootstrap': [], 'y_bootstrap': []}\n",
        "          right_child = {'X_bootstrap': [], 'y_bootstrap': []}\n",
        "\n",
        "          for i, value in enumerate(X_bootstrap[:,feature_idx]):\n",
        "              if value <= split_point:\n",
        "                  left_child['X_bootstrap'].append(X_bootstrap[i])\n",
        "                  left_child['y_bootstrap'].append(y_bootstrap[i])\n",
        "              else:\n",
        "                  right_child['X_bootstrap'].append(X_bootstrap[i])\n",
        "                  right_child['y_bootstrap'].append(y_bootstrap[i])\n",
        "\n",
        "          split_info_gain = information_gain(left_child['y_bootstrap'], right_child['y_bootstrap'])\n",
        "          if split_info_gain > best_info_gain:\n",
        "              best_info_gain = split_info_gain\n",
        "              left_child['X_bootstrap'] = np.array(left_child['X_bootstrap'])\n",
        "              right_child['X_bootstrap'] = np.array(right_child['X_bootstrap'])\n",
        "              node = {'information_gain': split_info_gain,\n",
        "                      'left_child': left_child,\n",
        "                      'right_child': right_child,\n",
        "                      'split_point': split_point,\n",
        "                      'feature_idx': feature_idx}\n",
        "\n",
        "    return node"
      ],
      "execution_count": 65,
      "outputs": []
    },
    {
      "cell_type": "code",
      "metadata": {
        "collapsed": true,
        "id": "paNdcscHTtIR"
      },
      "source": [
        "def terminal_node(node):\n",
        "    y_bootstrap = node['y_bootstrap']\n",
        "    pred = max(y_bootstrap, key = y_bootstrap.count)\n",
        "    return pred\n",
        "\n",
        "\n",
        "def split_node(node, max_features, min_samples_split, max_depth, depth):\n",
        "    left_child = node['left_child']\n",
        "    right_child = node['right_child']\n",
        "\n",
        "    del(node['left_child'])\n",
        "    del(node['right_child'])\n",
        "\n",
        "    if len(left_child['y_bootstrap']) == 0 or len(right_child['y_bootstrap']) == 0:\n",
        "        empty_child = {'y_bootstrap': left_child['y_bootstrap'] + right_child['y_bootstrap']}\n",
        "        node['left_split'] = terminal_node(empty_child)\n",
        "        node['right_split'] = terminal_node(empty_child)\n",
        "        return\n",
        "\n",
        "    if depth >= max_depth:\n",
        "        node['left_split'] = terminal_node(left_child)\n",
        "        node['right_split'] = terminal_node(right_child)\n",
        "        return node\n",
        "\n",
        "    if len(left_child['X_bootstrap']) <= min_samples_split:\n",
        "        node['left_split'] = node['right_split'] = terminal_node(left_child)\n",
        "    else:\n",
        "        node['left_split'] = find_split_point(left_child['X_bootstrap'], left_child['y_bootstrap'], max_features)\n",
        "        split_node(node['left_split'], max_depth, min_samples_split, max_depth, depth + 1)\n",
        "    if len(right_child['X_bootstrap']) <= min_samples_split:\n",
        "        node['right_split'] = node['left_split'] = terminal_node(right_child)\n",
        "    else:\n",
        "        node['right_split'] = find_split_point(right_child['X_bootstrap'], right_child['y_bootstrap'], max_features)\n",
        "        split_node(node['right_split'], max_features, min_samples_split, max_depth, depth + 1)"
      ],
      "execution_count": 66,
      "outputs": []
    },
    {
      "cell_type": "code",
      "metadata": {
        "collapsed": true,
        "id": "TAxe_2PpTtIS"
      },
      "source": [
        "def build_tree(X_bootstrap, y_bootstrap, max_depth, min_samples_split, max_features):\n",
        "    root_node = find_split_point(X_bootstrap, y_bootstrap, max_features)\n",
        "    split_node(root_node, max_features, min_samples_split, max_depth, 1)\n",
        "    return root_node\n",
        "\n",
        "def random_forest(X_train, y_train, n_estimators, max_features, max_depth, min_samples_split):\n",
        "    tree_ls = list()\n",
        "    oob_ls = list()\n",
        "    for i in range(n_estimators):\n",
        "        X_bootstrap, y_bootstrap, X_oob, y_oob = draw_bootstrap(X_train, y_train)\n",
        "        tree = build_tree(X_bootstrap, y_bootstrap, max_features, max_depth, min_samples_split)\n",
        "        tree_ls.append(tree)\n",
        "        oob_error = oob_score(tree, X_oob, y_oob)\n",
        "        oob_ls.append(oob_error)\n",
        "    print(\"OOB estimate: {:.2f}\".format(np.mean(oob_ls)))\n",
        "    return tree_ls"
      ],
      "execution_count": 67,
      "outputs": []
    },
    {
      "cell_type": "code",
      "metadata": {
        "collapsed": true,
        "id": "9V9mhHfDTtIT"
      },
      "source": [
        "def predict_tree(tree, X_test):\n",
        "    feature_idx = tree['feature_idx']\n",
        "\n",
        "    if X_test[feature_idx] <= tree['split_point']:\n",
        "        if type(tree['left_split']) == dict:\n",
        "            return predict_tree(tree['left_split'], X_test)\n",
        "        else:\n",
        "            value = tree['left_split']\n",
        "            return value\n",
        "    else:\n",
        "        if type(tree['right_split']) == dict:\n",
        "            return predict_tree(tree['right_split'], X_test)\n",
        "        else:\n",
        "            return tree['right_split']"
      ],
      "execution_count": 68,
      "outputs": []
    },
    {
      "cell_type": "code",
      "metadata": {
        "id": "V0IX56tZTtIT",
        "colab": {
          "base_uri": "https://localhost:8080/"
        },
        "outputId": "99051be5-7556-45a9-d2b2-580a124180b7"
      },
      "source": [
        "n_estimators = 10\n",
        "max_features = 10\n",
        "max_depth = 5\n",
        "min_samples_split = 2\n",
        "\n",
        "model = random_forest(X_train, y_train, n_estimators=n_estimators, max_features=max_features, max_depth=max_depth, min_samples_split=min_samples_split)"
      ],
      "execution_count": 69,
      "outputs": [
        {
          "output_type": "stream",
          "text": [
            "OOB estimate: 0.61\n"
          ],
          "name": "stdout"
        }
      ]
    },
    {
      "cell_type": "code",
      "metadata": {
        "id": "6nuP3A1hUVVd"
      },
      "source": [
        "import joblib\n",
        "#save\n",
        "joblib.dump(model, \"my_random_forest.joblib\")\n",
        "\n",
        "# load\n",
        "loaded_model = joblib.load(\"my_random_forest.joblib\")"
      ],
      "execution_count": 70,
      "outputs": []
    },
    {
      "cell_type": "code",
      "metadata": {
        "collapsed": true,
        "id": "OAs42NZwTtIT"
      },
      "source": [
        "def predict_rf(tree_ls, X_test):\n",
        "    pred_ls = list()\n",
        "    for i in range(len(X_test)):\n",
        "        ensemble_preds = [predict_tree(tree, X_test.values[i]) for tree in tree_ls]\n",
        "        final_pred = max(ensemble_preds, key = ensemble_preds.count)\n",
        "        pred_ls.append(final_pred)\n",
        "    return np.array(pred_ls)"
      ],
      "execution_count": 71,
      "outputs": []
    },
    {
      "cell_type": "code",
      "metadata": {
        "id": "HDNLfJD4VYjy"
      },
      "source": [
        "X_test = test_df.drop(['label'], axis=1)\n",
        "y_test = test_df['label'].values"
      ],
      "execution_count": 72,
      "outputs": []
    },
    {
      "cell_type": "code",
      "metadata": {
        "collapsed": true,
        "id": "_bDPBcTSTtIU"
      },
      "source": [
        "preds = predict_rf(loaded_model, X_test)"
      ],
      "execution_count": 73,
      "outputs": []
    },
    {
      "cell_type": "code",
      "metadata": {
        "id": "4Rb31SkTTtIU",
        "colab": {
          "base_uri": "https://localhost:8080/"
        },
        "outputId": "1cfb9a1f-6c36-4f4f-ef6a-73accfcc45db"
      },
      "source": [
        "acc = sum(preds == y_test) / len(y_test)\n",
        "print(\"Testing accuracy: {}\".format(np.round(acc,3)))"
      ],
      "execution_count": 74,
      "outputs": [
        {
          "output_type": "stream",
          "text": [
            "Testing accuracy: 0.643\n"
          ],
          "name": "stdout"
        }
      ]
    },
    {
      "cell_type": "code",
      "metadata": {
        "id": "6tpYwc9nTtIV",
        "colab": {
          "base_uri": "https://localhost:8080/"
        },
        "outputId": "b88f23f7-e8a9-42af-cb04-45514b707795"
      },
      "source": [
        "# what a tree look like (the first 3 nodes)df =\n",
        "tree_1 = model[0]\n",
        "for k in tree_1.keys():\n",
        "    if type(tree_1[k]) == dict:\n",
        "        print('{}: '.format(k))\n",
        "        for kk in tree_1[k].keys():\n",
        "            if type(tree_1[k][kk]) == dict:\n",
        "                print('\\t{}: '.format(kk))\n",
        "                for kkk in tree_1[k][kk].keys():\n",
        "                    print('\\t\\t{}: {}'.format(kkk, tree_1[k][kk][kkk]))\n",
        "                \n",
        "            else:\n",
        "                print('\\t{}: {}'.format(kk, tree_1[k][kk]))\n",
        "    else:\n",
        "        print('{}: {}'.format(k, tree_1[k]))\n",
        "        "
      ],
      "execution_count": 75,
      "outputs": [
        {
          "output_type": "stream",
          "text": [
            "information_gain: 0.5204366632714585\n",
            "split_point: 0.0196078431372549\n",
            "feature_idx: 11\n",
            "left_split: \n",
            "\tinformation_gain: 0.408168984265763\n",
            "\tsplit_point: 0.0\n",
            "\tfeature_idx: 739\n",
            "\tleft_split: \n",
            "\t\tinformation_gain: 0.4958359543843608\n",
            "\t\tsplit_point: 0.4666666666666667\n",
            "\t\tfeature_idx: 599\n",
            "\t\tleft_split: {'information_gain': 0.2871396549681605, 'split_point': 0.49019607843137253, 'feature_idx': 446, 'left_split': {'information_gain': 0.30541101130094234, 'split_point': 0.28627450980392155, 'feature_idx': 158, 'left_split': {'information_gain': 0.2838170296666781, 'split_point': 0.0196078431372549, 'feature_idx': 406, 'left_split': {'information_gain': 0.0, 'split_point': 0.0, 'feature_idx': 147, 'left_split': 5, 'right_split': 5}, 'right_split': {'information_gain': 0.30872187218890607, 'split_point': 0.00392156862745098, 'feature_idx': 155, 'left_split': 9, 'right_split': 9}}, 'right_split': {'information_gain': 0.991076059838222, 'split_point': 0.5176470588235295, 'feature_idx': 553, 'left_split': 4, 'right_split': 4}}, 'right_split': {'information_gain': 0.19005589787821653, 'split_point': 0.0, 'feature_idx': 226, 'left_split': 8, 'right_split': 8}}\n",
            "\t\tright_split: {'information_gain': 0.9067184029552334, 'split_point': 0.01568627450980392, 'feature_idx': 372, 'left_split': {'information_gain': 0.34459493440701705, 'split_point': 0.5490196078431373, 'feature_idx': 325, 'left_split': {'information_gain': 0.4689955935892812, 'split_point': 0.0, 'feature_idx': 661, 'left_split': 9, 'right_split': 9}, 'right_split': {'information_gain': 0.1773894531859974, 'split_point': 0.0, 'feature_idx': 610, 'left_split': 5, 'right_split': {'information_gain': 0.18116640155354563, 'split_point': 0.9803921568627451, 'feature_idx': 692, 'left_split': 7, 'right_split': 7}}}, 'right_split': {'information_gain': 0.4979276403043884, 'split_point': 0.4, 'feature_idx': 694, 'left_split': {'information_gain': 0.3780617322542031, 'split_point': 0.44313725490196076, 'feature_idx': 347, 'left_split': {'information_gain': 0.9852281360342514, 'split_point': 0.17647058823529413, 'feature_idx': 453, 'left_split': 8, 'right_split': 8}, 'right_split': {'information_gain': 0.0, 'split_point': 0.8901960784313725, 'feature_idx': 124, 'left_split': 8, 'right_split': 8}}, 'right_split': {'information_gain': 0.6967604755637348, 'split_point': 0.5372549019607843, 'feature_idx': 43, 'left_split': {'information_gain': 0.9967916319816366, 'split_point': 0.0, 'feature_idx': 697, 'left_split': {'information_gain': 0.46956521111470695, 'split_point': 0.8352941176470589, 'feature_idx': 187, 'left_split': 2, 'right_split': 2}, 'right_split': {'information_gain': 0.0, 'split_point': 0.6509803921568628, 'feature_idx': 646, 'left_split': 8, 'right_split': 8}}, 'right_split': {'information_gain': 0.4689955935892811, 'split_point': 0.3568627450980392, 'feature_idx': 719, 'left_split': 2, 'right_split': 2}}}}\n",
            "\tright_split: \n",
            "\t\tinformation_gain: 0.580346708700251\n",
            "\t\tsplit_point: 0.03529411764705882\n",
            "\t\tfeature_idx: 582\n",
            "\t\tleft_split: {'information_gain': 0.576776365231014, 'split_point': 0.2823529411764706, 'feature_idx': 175, 'left_split': {'information_gain': 0.8960382325345574, 'split_point': 0.09019607843137255, 'feature_idx': 769, 'left_split': {'information_gain': 0.9709505944546686, 'split_point': 0.26666666666666666, 'feature_idx': 713, 'left_split': {'information_gain': 0.5032583347756457, 'split_point': 0.0, 'feature_idx': 286, 'left_split': 0, 'right_split': 0}, 'right_split': {'information_gain': 0.0, 'split_point': 0.00392156862745098, 'feature_idx': 260, 'left_split': 5, 'right_split': 5}}, 'right_split': {'information_gain': 0.22467360123018298, 'split_point': 0.7411764705882353, 'feature_idx': 98, 'left_split': {'information_gain': 0.16229218908241475, 'split_point': 0.0, 'feature_idx': 250, 'left_split': 8, 'right_split': 8}, 'right_split': {'information_gain': 0.5612781244591329, 'split_point': 0.30980392156862746, 'feature_idx': 572, 'left_split': 4, 'right_split': {'information_gain': 0.6500224216483541, 'split_point': 0.8941176470588236, 'feature_idx': 204, 'left_split': 4, 'right_split': 4}}}}, 'right_split': {'information_gain': 0.35051957655822186, 'split_point': 0.8, 'feature_idx': 544, 'left_split': {'information_gain': 0.27383088321895754, 'split_point': 0.5450980392156862, 'feature_idx': 748, 'left_split': {'information_gain': 0.5435644431995964, 'split_point': 0.0, 'feature_idx': 765, 'left_split': 0, 'right_split': 0}, 'right_split': {'information_gain': 0.6948366311162494, 'split_point': 0.6980392156862745, 'feature_idx': 205, 'left_split': {'information_gain': 0.0, 'split_point': 0.0, 'feature_idx': 14, 'left_split': 0, 'right_split': 0}, 'right_split': {'information_gain': 0.8631205685666309, 'split_point': 0.7490196078431373, 'feature_idx': 519, 'left_split': 0, 'right_split': 0}}}, 'right_split': {'information_gain': 0.6771344174636723, 'split_point': 0.0, 'feature_idx': 78, 'left_split': {'information_gain': 0.5916727785823275, 'split_point': 0.7176470588235294, 'feature_idx': 769, 'left_split': 0, 'right_split': 0}, 'right_split': {'information_gain': 0.0, 'split_point': 0.0, 'feature_idx': 53, 'left_split': 0, 'right_split': 0}}}}\n",
            "\t\tright_split: {'information_gain': 0.6507910400188108, 'split_point': 0.03137254901960784, 'feature_idx': 482, 'left_split': {'information_gain': 0.8865408928220899, 'split_point': 0.011764705882352941, 'feature_idx': 518, 'left_split': {'information_gain': 0.0, 'split_point': 0.6666666666666666, 'feature_idx': 629, 'left_split': 5, 'right_split': 5}, 'right_split': {'information_gain': 0.0, 'split_point': 0.8549019607843137, 'feature_idx': 522, 'left_split': 9, 'right_split': 9}}, 'right_split': {'information_gain': 0.5981502469161704, 'split_point': 0.12549019607843137, 'feature_idx': 176, 'left_split': {'information_gain': 0.25730310808986073, 'split_point': 0.47058823529411764, 'feature_idx': 434, 'left_split': {'information_gain': 0.9798687566511528, 'split_point': 0.4117647058823529, 'feature_idx': 469, 'left_split': 5, 'right_split': {'information_gain': 0.0, 'split_point': 0.8196078431372549, 'feature_idx': 466, 'left_split': 8, 'right_split': 8}}, 'right_split': {'information_gain': 0.0, 'split_point': 0.6823529411764706, 'feature_idx': 622, 'left_split': {'information_gain': 0.0, 'split_point': 0.00784313725490196, 'feature_idx': 16, 'left_split': {'information_gain': 0.0, 'split_point': 0.0, 'feature_idx': 141, 'left_split': 8, 'right_split': 8}, 'right_split': {'information_gain': 0.0, 'split_point': 0.6980392156862745, 'feature_idx': 442, 'left_split': 8, 'right_split': 8}}, 'right_split': {'information_gain': 0.0, 'split_point': 0.33725490196078434, 'feature_idx': 557, 'left_split': 8, 'right_split': 8}}}, 'right_split': {'information_gain': 0.4153541812562517, 'split_point': 0.7647058823529411, 'feature_idx': 404, 'left_split': {'information_gain': 0.5135820085093292, 'split_point': 0.10588235294117647, 'feature_idx': 592, 'left_split': {'information_gain': 0.6478697925681117, 'split_point': 0.0, 'feature_idx': 89, 'left_split': 6, 'right_split': 6}, 'right_split': {'information_gain': 0.42950452328914684, 'split_point': 0.49411764705882355, 'feature_idx': 238, 'left_split': {'information_gain': 0.0, 'split_point': 0.5058823529411764, 'feature_idx': 466, 'left_split': 6, 'right_split': 6}, 'right_split': {'information_gain': 0.9544340029249649, 'split_point': 0.7568627450980392, 'feature_idx': 384, 'left_split': 6, 'right_split': 6}}}, 'right_split': {'information_gain': 1.0, 'split_point': 0.03137254901960784, 'feature_idx': 312, 'left_split': {'information_gain': 0.0, 'split_point': 0.0, 'feature_idx': 781, 'left_split': 4, 'right_split': 4}, 'right_split': {'information_gain': 0.8812908992306927, 'split_point': 0.8156862745098039, 'feature_idx': 343, 'left_split': 2, 'right_split': 2}}}}}\n",
            "right_split: \n",
            "\tinformation_gain: 0.33719842861559923\n",
            "\tsplit_point: 0.00784313725490196\n",
            "\tfeature_idx: 200\n",
            "\tleft_split: \n",
            "\t\tinformation_gain: 0.4991509981813954\n",
            "\t\tsplit_point: 0.011764705882352941\n",
            "\t\tfeature_idx: 734\n",
            "\t\tleft_split: {'information_gain': 0.3731071758141924, 'split_point': 0.23529411764705882, 'feature_idx': 743, 'left_split': {'information_gain': 0.24748201935317737, 'split_point': 0.11764705882352941, 'feature_idx': 346, 'left_split': {'information_gain': 0.9999999999999998, 'split_point': 0.07058823529411765, 'feature_idx': 548, 'left_split': 3, 'right_split': 3}, 'right_split': {'information_gain': 0.3372900666170139, 'split_point': 0.0, 'feature_idx': 564, 'left_split': 2, 'right_split': 2}}, 'right_split': {'information_gain': 0.42028300638741123, 'split_point': 0.0392156862745098, 'feature_idx': 406, 'left_split': {'information_gain': 0.0, 'split_point': 0.9372549019607843, 'feature_idx': 206, 'left_split': 1, 'right_split': 1}, 'right_split': {'information_gain': 0.3070099400242962, 'split_point': 0.5764705882352941, 'feature_idx': 637, 'left_split': {'information_gain': 0.24895345293898619, 'split_point': 0.2196078431372549, 'feature_idx': 652, 'left_split': {'information_gain': 0.4533274079198212, 'split_point': 0.7607843137254902, 'feature_idx': 716, 'left_split': {'information_gain': 0.3411035891083385, 'split_point': 0.34901960784313724, 'feature_idx': 599, 'left_split': {'information_gain': 0.5916727785823275, 'split_point': 0.0, 'feature_idx': 315, 'left_split': 1, 'right_split': 4}, 'right_split': {'information_gain': 0.4863786381119157, 'split_point': 0.47058823529411764, 'feature_idx': 343, 'left_split': 1, 'right_split': 4}}, 'right_split': {'information_gain': 0.20062232431271465, 'split_point': 0.10196078431372549, 'feature_idx': 174, 'left_split': 4, 'right_split': 4}}, 'right_split': {'information_gain': 0.30954342915032496, 'split_point': 0.9176470588235294, 'feature_idx': 605, 'left_split': 6, 'right_split': 6}}, 'right_split': {'information_gain': 0.9612366047228759, 'split_point': 0.0, 'feature_idx': 779, 'left_split': 6, 'right_split': 6}}}}\n",
            "\t\tright_split: {'information_gain': 0.3542709851659809, 'split_point': 0.10196078431372549, 'feature_idx': 470, 'left_split': {'information_gain': 0.711928842117742, 'split_point': 0.21176470588235294, 'feature_idx': 343, 'left_split': {'information_gain': 0.5487949406953985, 'split_point': 0.6745098039215687, 'feature_idx': 213, 'left_split': 3, 'right_split': 3}, 'right_split': {'information_gain': 0.5032583347756459, 'split_point': 0.792156862745098, 'feature_idx': 541, 'left_split': 1, 'right_split': 1}}, 'right_split': {'information_gain': 0.3264913371317063, 'split_point': 0.403921568627451, 'feature_idx': 627, 'left_split': {'information_gain': 0.53672767209196, 'split_point': 0.8509803921568627, 'feature_idx': 287, 'left_split': {'information_gain': 0.7582766571931676, 'split_point': 0.0, 'feature_idx': 772, 'left_split': {'information_gain': 0.4394969869215134, 'split_point': 0.0, 'feature_idx': 87, 'left_split': 6, 'right_split': 6}, 'right_split': {'information_gain': 0.0, 'split_point': 0.15294117647058825, 'feature_idx': 215, 'left_split': 6, 'right_split': 6}}, 'right_split': {'information_gain': 0.9852281360342513, 'split_point': 0.8705882352941177, 'feature_idx': 430, 'left_split': 2, 'right_split': 2}}, 'right_split': {'information_gain': 0.2695899576187259, 'split_point': 0.5176470588235295, 'feature_idx': 619, 'left_split': {'information_gain': 0.188947653305178, 'split_point': 0.00392156862745098, 'feature_idx': 134, 'left_split': {'information_gain': 0.3039713672659197, 'split_point': 0.8745098039215686, 'feature_idx': 722, 'left_split': 2, 'right_split': 2}, 'right_split': {'information_gain': 0.3958156020033584, 'split_point': 0.2, 'feature_idx': 719, 'left_split': {'information_gain': 0.0, 'split_point': 0.0, 'feature_idx': 782, 'left_split': 2, 'right_split': 2}, 'right_split': {'information_gain': 0.9709505944546686, 'split_point': 0.6313725490196078, 'feature_idx': 552, 'left_split': 2, 'right_split': 2}}}, 'right_split': {'information_gain': 0.9940302114769565, 'split_point': 0.6666666666666666, 'feature_idx': 210, 'left_split': 8, 'right_split': {'information_gain': 0.0, 'split_point': 0.0196078431372549, 'feature_idx': 117, 'left_split': 4, 'right_split': 4}}}}}\n",
            "\tright_split: \n",
            "\t\tinformation_gain: 0.3011613199925208\n",
            "\t\tsplit_point: 0.0\n",
            "\t\tfeature_idx: 641\n",
            "\t\tleft_split: {'information_gain': 0.4969468766503324, 'split_point': 0.00392156862745098, 'feature_idx': 619, 'left_split': {'information_gain': 0.5249051407193139, 'split_point': 0.22745098039215686, 'feature_idx': 666, 'left_split': {'information_gain': 0.1222915970693747, 'split_point': 0.7686274509803922, 'feature_idx': 553, 'left_split': 3, 'right_split': 3}, 'right_split': {'information_gain': 0.9940302114769566, 'split_point': 0.45098039215686275, 'feature_idx': 747, 'left_split': 6, 'right_split': 6}}, 'right_split': {'information_gain': 0.5179328070934562, 'split_point': 0.49411764705882355, 'feature_idx': 321, 'left_split': {'information_gain': 0.6612262562697891, 'split_point': 0.0392156862745098, 'feature_idx': 770, 'left_split': {'information_gain': 0.9182958340544896, 'split_point': 0.21568627450980393, 'feature_idx': 317, 'left_split': 2, 'right_split': 2}, 'right_split': {'information_gain': 0.0, 'split_point': 0.6549019607843137, 'feature_idx': 685, 'left_split': 6, 'right_split': 6}}, 'right_split': {'information_gain': 0.5435644431995964, 'split_point': 0.4980392156862745, 'feature_idx': 528, 'left_split': 4, 'right_split': 4}}}\n",
            "\t\tright_split: {'information_gain': 0.2974722489192896, 'split_point': 0.09411764705882353, 'feature_idx': 377, 'left_split': 8, 'right_split': {'information_gain': 0.19715972342414934, 'split_point': 0.8941176470588236, 'feature_idx': 96, 'left_split': 4, 'right_split': 4}}\n"
          ],
          "name": "stdout"
        }
      ]
    },
    {
      "cell_type": "code",
      "metadata": {
        "colab": {
          "base_uri": "https://localhost:8080/"
        },
        "id": "_V3kyph7b8al",
        "outputId": "65266ef3-e39b-414a-e2b2-b7fb18d5dc14"
      },
      "source": [
        "from sklearn.ensemble import RandomForestClassifier\n",
        "\n",
        "sklearn_model = RandomForestClassifier(n_estimators = n_estimators, \n",
        "                                       max_features=max_features, \n",
        "                                       max_depth=max_depth, \n",
        "                                       min_samples_split =min_samples_split, \n",
        "                                       bootstrap=True, \n",
        "                                       oob_score=True)\n",
        "\n",
        "sklearn_model.fit(X_train, y_train)"
      ],
      "execution_count": 76,
      "outputs": [
        {
          "output_type": "stream",
          "text": [
            "/usr/local/lib/python3.7/dist-packages/sklearn/ensemble/_forest.py:523: UserWarning: Some inputs do not have OOB scores. This probably means too few trees were used to compute any reliable oob estimates.\n",
            "  warn(\"Some inputs do not have OOB scores. \"\n",
            "/usr/local/lib/python3.7/dist-packages/sklearn/ensemble/_forest.py:528: RuntimeWarning: invalid value encountered in true_divide\n",
            "  predictions[k].sum(axis=1)[:, np.newaxis])\n"
          ],
          "name": "stderr"
        },
        {
          "output_type": "execute_result",
          "data": {
            "text/plain": [
              "RandomForestClassifier(bootstrap=True, ccp_alpha=0.0, class_weight=None,\n",
              "                       criterion='gini', max_depth=5, max_features=10,\n",
              "                       max_leaf_nodes=None, max_samples=None,\n",
              "                       min_impurity_decrease=0.0, min_impurity_split=None,\n",
              "                       min_samples_leaf=1, min_samples_split=2,\n",
              "                       min_weight_fraction_leaf=0.0, n_estimators=10,\n",
              "                       n_jobs=None, oob_score=True, random_state=None,\n",
              "                       verbose=0, warm_start=False)"
            ]
          },
          "metadata": {
            "tags": []
          },
          "execution_count": 76
        }
      ]
    },
    {
      "cell_type": "code",
      "metadata": {
        "id": "agLkjdVnhC3d"
      },
      "source": [
        "sklearn_preds = sklearn_model.predict(X_test)"
      ],
      "execution_count": 77,
      "outputs": []
    },
    {
      "cell_type": "code",
      "metadata": {
        "id": "sz1QNGV1U1T0"
      },
      "source": [
        "#save\n",
        "joblib.dump(model, \"sklearn_fr.joblib\")\n",
        "\n",
        "# load\n",
        "loaded_model = joblib.load(\"sklearn_fr.joblib\")"
      ],
      "execution_count": 78,
      "outputs": []
    },
    {
      "cell_type": "code",
      "metadata": {
        "colab": {
          "base_uri": "https://localhost:8080/"
        },
        "id": "RdWtkDZRU-ni",
        "outputId": "752a0e5f-928e-48ba-b844-1c66d0c46e2e"
      },
      "source": [
        "acc = sum(sklearn_preds == y_test) / len(y_test)\n",
        "print(\"Sklearn accuracy: {}\".format(np.round(acc,3)))"
      ],
      "execution_count": 79,
      "outputs": [
        {
          "output_type": "stream",
          "text": [
            "Sklearn accuracy: 0.741\n"
          ],
          "name": "stdout"
        }
      ]
    }
  ]
}